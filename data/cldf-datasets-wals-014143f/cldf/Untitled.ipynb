{
 "cells": [
  {
   "cell_type": "code",
   "execution_count": 1,
   "metadata": {},
   "outputs": [],
   "source": [
    "import numpy as np\n",
    "import pandas as pd"
   ]
  },
  {
   "cell_type": "code",
   "execution_count": 8,
   "metadata": {},
   "outputs": [],
   "source": [
    "df2 = pd.read_csv('languages.csv')"
   ]
  },
  {
   "cell_type": "code",
   "execution_count": 4,
   "metadata": {},
   "outputs": [],
   "source": [
    "df1 = pd.read_csv('examples.csv')"
   ]
  },
  {
   "cell_type": "code",
   "execution_count": 11,
   "metadata": {},
   "outputs": [
    {
     "data": {
      "text/html": [
       "<div>\n",
       "<style scoped>\n",
       "    .dataframe tbody tr th:only-of-type {\n",
       "        vertical-align: middle;\n",
       "    }\n",
       "\n",
       "    .dataframe tbody tr th {\n",
       "        vertical-align: top;\n",
       "    }\n",
       "\n",
       "    .dataframe thead th {\n",
       "        text-align: right;\n",
       "    }\n",
       "</style>\n",
       "<table border=\"1\" class=\"dataframe\">\n",
       "  <thead>\n",
       "    <tr style=\"text-align: right;\">\n",
       "      <th></th>\n",
       "      <th>ID</th>\n",
       "      <th>Language_ID</th>\n",
       "      <th>Primary_Text</th>\n",
       "      <th>Analyzed_Word</th>\n",
       "      <th>Gloss</th>\n",
       "      <th>Translated_Text</th>\n",
       "      <th>Meta_Language_ID</th>\n",
       "      <th>Comment</th>\n",
       "    </tr>\n",
       "  </thead>\n",
       "  <tbody>\n",
       "    <tr>\n",
       "      <td>0</td>\n",
       "      <td>igt-1</td>\n",
       "      <td>mnd</td>\n",
       "      <td>tāmen tōu zìxíngchē</td>\n",
       "      <td>tāmen\\ttōu\\tzìxíngchē</td>\n",
       "      <td>3PL\\tsteal\\tbicycle</td>\n",
       "      <td>They steal bicycles.</td>\n",
       "      <td>NaN</td>\n",
       "      <td>NaN</td>\n",
       "    </tr>\n",
       "    <tr>\n",
       "      <td>1</td>\n",
       "      <td>igt-2</td>\n",
       "      <td>mnd</td>\n",
       "      <td>[wǒ gěi nǐ de] shū</td>\n",
       "      <td>[wǒ\\tgěi\\tnǐ\\tde]\\tshū</td>\n",
       "      <td>[1SG\\tgive\\t2SG\\tLINK]\\tbook</td>\n",
       "      <td>the book [that I gave you]</td>\n",
       "      <td>NaN</td>\n",
       "      <td>NaN</td>\n",
       "    </tr>\n",
       "    <tr>\n",
       "      <td>2</td>\n",
       "      <td>igt-3</td>\n",
       "      <td>nbd</td>\n",
       "      <td>dımın ıdw ṍww(ı)</td>\n",
       "      <td>dımın\\tıdw\\tṍww(ı)</td>\n",
       "      <td>ten\\teight\\ttwo</td>\n",
       "      <td>82</td>\n",
       "      <td>NaN</td>\n",
       "      <td>NaN</td>\n",
       "    </tr>\n",
       "    <tr>\n",
       "      <td>3</td>\n",
       "      <td>igt-4</td>\n",
       "      <td>geo</td>\n",
       "      <td>v-</td>\n",
       "      <td>v-</td>\n",
       "      <td>1 SG /1 PL</td>\n",
       "      <td>I we</td>\n",
       "      <td>NaN</td>\n",
       "      <td>NaN</td>\n",
       "    </tr>\n",
       "    <tr>\n",
       "      <td>4</td>\n",
       "      <td>igt-5</td>\n",
       "      <td>dre</td>\n",
       "      <td>troa traqa la nekönatr</td>\n",
       "      <td>troa\\ttraqa\\tla\\tnekönatr</td>\n",
       "      <td>oblig\\tarrive\\tthe\\tchild</td>\n",
       "      <td>the child must come</td>\n",
       "      <td>NaN</td>\n",
       "      <td>NaN</td>\n",
       "    </tr>\n",
       "  </tbody>\n",
       "</table>\n",
       "</div>"
      ],
      "text/plain": [
       "      ID Language_ID            Primary_Text              Analyzed_Word  \\\n",
       "0  igt-1         mnd     tāmen tōu zìxíngchē      tāmen\\ttōu\\tzìxíngchē   \n",
       "1  igt-2         mnd      [wǒ gěi nǐ de] shū     [wǒ\\tgěi\\tnǐ\\tde]\\tshū   \n",
       "2  igt-3         nbd       dımın ıdw ṍww(ı)        dımın\\tıdw\\tṍww(ı)   \n",
       "3  igt-4         geo                      v-                         v-   \n",
       "4  igt-5         dre  troa traqa la nekönatr  troa\\ttraqa\\tla\\tnekönatr   \n",
       "\n",
       "                          Gloss             Translated_Text  Meta_Language_ID  \\\n",
       "0           3PL\\tsteal\\tbicycle        They steal bicycles.               NaN   \n",
       "1  [1SG\\tgive\\t2SG\\tLINK]\\tbook  the book [that I gave you]               NaN   \n",
       "2               ten\\teight\\ttwo                          82               NaN   \n",
       "3                    1 SG /1 PL                        I we               NaN   \n",
       "4     oblig\\tarrive\\tthe\\tchild         the child must come               NaN   \n",
       "\n",
       "   Comment  \n",
       "0      NaN  \n",
       "1      NaN  \n",
       "2      NaN  \n",
       "3      NaN  \n",
       "4      NaN  "
      ]
     },
     "execution_count": 11,
     "metadata": {},
     "output_type": "execute_result"
    }
   ],
   "source": [
    "df1.head()"
   ]
  },
  {
   "cell_type": "code",
   "execution_count": 160,
   "metadata": {},
   "outputs": [],
   "source": [
    "ids = list(df2[df2['Name']=='Awadhi']['ID'])[0]"
   ]
  },
  {
   "cell_type": "code",
   "execution_count": 209,
   "metadata": {},
   "outputs": [],
   "source": [
    "query_lang = 'awadhi'"
   ]
  },
  {
   "cell_type": "code",
   "execution_count": 210,
   "metadata": {},
   "outputs": [],
   "source": [
    "out_row = df2[df2[\"Name\"] == query_lang].to_dict(\"records\")"
   ]
  },
  {
   "cell_type": "code",
   "execution_count": 211,
   "metadata": {},
   "outputs": [
    {
     "ename": "IndexError",
     "evalue": "list index out of range",
     "output_type": "error",
     "traceback": [
      "\u001b[0;31m---------------------------------------------------------------------------\u001b[0m",
      "\u001b[0;31mIndexError\u001b[0m                                Traceback (most recent call last)",
      "\u001b[0;32m<ipython-input-211-074ee26751b4>\u001b[0m in \u001b[0;36m<module>\u001b[0;34m\u001b[0m\n\u001b[0;32m----> 1\u001b[0;31m \u001b[0mout_row\u001b[0m\u001b[0;34m[\u001b[0m\u001b[0;36m0\u001b[0m\u001b[0;34m]\u001b[0m\u001b[0;34m[\u001b[0m\u001b[0;34m'ID'\u001b[0m\u001b[0;34m]\u001b[0m\u001b[0;34m\u001b[0m\u001b[0;34m\u001b[0m\u001b[0m\n\u001b[0m",
      "\u001b[0;31mIndexError\u001b[0m: list index out of range"
     ]
    }
   ],
   "source": [
    "out_row[0]['ID']"
   ]
  },
  {
   "cell_type": "code",
   "execution_count": 159,
   "metadata": {},
   "outputs": [
    {
     "data": {
      "text/plain": [
       "'awd'"
      ]
     },
     "execution_count": 159,
     "metadata": {},
     "output_type": "execute_result"
    }
   ],
   "source": [
    "list(ids)[0]"
   ]
  },
  {
   "cell_type": "code",
   "execution_count": 142,
   "metadata": {},
   "outputs": [
    {
     "data": {
      "text/plain": [
       "'Auslan'"
      ]
     },
     "execution_count": 142,
     "metadata": {},
     "output_type": "execute_result"
    }
   ],
   "source": [
    "import random\n",
    "df2.Name[int(random.random()*2000)]"
   ]
  },
  {
   "cell_type": "code",
   "execution_count": 198,
   "metadata": {},
   "outputs": [
    {
     "data": {
      "text/html": [
       "<div>\n",
       "<style scoped>\n",
       "    .dataframe tbody tr th:only-of-type {\n",
       "        vertical-align: middle;\n",
       "    }\n",
       "\n",
       "    .dataframe tbody tr th {\n",
       "        vertical-align: top;\n",
       "    }\n",
       "\n",
       "    .dataframe thead th {\n",
       "        text-align: right;\n",
       "    }\n",
       "</style>\n",
       "<table border=\"1\" class=\"dataframe\">\n",
       "  <thead>\n",
       "    <tr style=\"text-align: right;\">\n",
       "      <th></th>\n",
       "      <th>ID</th>\n",
       "      <th>Language_ID</th>\n",
       "      <th>Primary_Text</th>\n",
       "      <th>Analyzed_Word</th>\n",
       "      <th>Gloss</th>\n",
       "      <th>Translated_Text</th>\n",
       "      <th>Meta_Language_ID</th>\n",
       "      <th>Comment</th>\n",
       "    </tr>\n",
       "  </thead>\n",
       "  <tbody>\n",
       "    <tr>\n",
       "      <td>167</td>\n",
       "      <td>igt-164</td>\n",
       "      <td>hin</td>\n",
       "      <td>laRkaa kal aay-aa</td>\n",
       "      <td>laRkaa\\tkal\\taay-aa</td>\n",
       "      <td>boy\\tyesterday\\tcome.AOR-SG.M</td>\n",
       "      <td>The boy came yesterday.</td>\n",
       "      <td>NaN</td>\n",
       "      <td>NaN</td>\n",
       "    </tr>\n",
       "    <tr>\n",
       "      <td>168</td>\n",
       "      <td>igt-165</td>\n",
       "      <td>hin</td>\n",
       "      <td>laRke ne laRkii ko dekh-aa</td>\n",
       "      <td>laRke\\tne\\tlaRkii\\tko\\tdekh-aa</td>\n",
       "      <td>boy.OBL\\tERG\\tgirl\\tACC\\tsee- SG.M</td>\n",
       "      <td>The boy saw the girl.</td>\n",
       "      <td>NaN</td>\n",
       "      <td>NaN</td>\n",
       "    </tr>\n",
       "    <tr>\n",
       "      <td>611</td>\n",
       "      <td>igt-608</td>\n",
       "      <td>hin</td>\n",
       "      <td>maim</td>\n",
       "      <td>maim</td>\n",
       "      <td>1sg.nom</td>\n",
       "      <td>I</td>\n",
       "      <td>NaN</td>\n",
       "      <td>NaN</td>\n",
       "    </tr>\n",
       "    <tr>\n",
       "      <td>612</td>\n",
       "      <td>igt-609</td>\n",
       "      <td>hin</td>\n",
       "      <td>ham</td>\n",
       "      <td>ham</td>\n",
       "      <td>1pl.nom</td>\n",
       "      <td>we</td>\n",
       "      <td>NaN</td>\n",
       "      <td>NaN</td>\n",
       "    </tr>\n",
       "    <tr>\n",
       "      <td>744</td>\n",
       "      <td>igt-995</td>\n",
       "      <td>hin</td>\n",
       "      <td>a. maim̊ calt-ā hūm̊</td>\n",
       "      <td>a.\\tmaim̊\\tcalt-ā\\thūm̊</td>\n",
       "      <td>1SG.PRON\\tgo-\\tSG\\t1SG.AUX</td>\n",
       "      <td>I go.</td>\n",
       "      <td>NaN</td>\n",
       "      <td>NaN</td>\n",
       "    </tr>\n",
       "    <tr>\n",
       "      <td>745</td>\n",
       "      <td>igt-996</td>\n",
       "      <td>hin</td>\n",
       "      <td>b. ham calt-e haim̊</td>\n",
       "      <td>b.\\tham\\tcalt-e\\thaim̊</td>\n",
       "      <td>1PL.PRON\\tgo-\\tPL\\t1PL.AUX</td>\n",
       "      <td>‘We go’.</td>\n",
       "      <td>NaN</td>\n",
       "      <td>NaN</td>\n",
       "    </tr>\n",
       "    <tr>\n",
       "      <td>2388</td>\n",
       "      <td>igt-2405</td>\n",
       "      <td>hin</td>\n",
       "      <td>maim hūm</td>\n",
       "      <td>maim\\thūm</td>\n",
       "      <td>I\\tbe.1.SG.PRES</td>\n",
       "      <td>'be'</td>\n",
       "      <td>NaN</td>\n",
       "      <td>NaN</td>\n",
       "    </tr>\n",
       "    <tr>\n",
       "      <td>2389</td>\n",
       "      <td>igt-2406</td>\n",
       "      <td>hin</td>\n",
       "      <td>maim thā</td>\n",
       "      <td>maim\\tthā</td>\n",
       "      <td>I\\tbe.1.SG.M.PST</td>\n",
       "      <td>'be'</td>\n",
       "      <td>NaN</td>\n",
       "      <td>NaN</td>\n",
       "    </tr>\n",
       "    <tr>\n",
       "      <td>2390</td>\n",
       "      <td>igt-2407</td>\n",
       "      <td>hin</td>\n",
       "      <td>maim hūmga</td>\n",
       "      <td>maim\\thūmga</td>\n",
       "      <td>I\\tbe.1.SG.M.FUT</td>\n",
       "      <td>'be'</td>\n",
       "      <td>NaN</td>\n",
       "      <td>NaN</td>\n",
       "    </tr>\n",
       "    <tr>\n",
       "      <td>2391</td>\n",
       "      <td>igt-2408</td>\n",
       "      <td>hin</td>\n",
       "      <td>jānā</td>\n",
       "      <td>jānā</td>\n",
       "      <td>go.PRES/IMPF</td>\n",
       "      <td>'go'</td>\n",
       "      <td>NaN</td>\n",
       "      <td>NaN</td>\n",
       "    </tr>\n",
       "    <tr>\n",
       "      <td>2392</td>\n",
       "      <td>igt-2409</td>\n",
       "      <td>hin</td>\n",
       "      <td>gayā</td>\n",
       "      <td>gayā</td>\n",
       "      <td>go.SG.M.PFV</td>\n",
       "      <td>'go'</td>\n",
       "      <td>NaN</td>\n",
       "      <td>NaN</td>\n",
       "    </tr>\n",
       "    <tr>\n",
       "      <td>2906</td>\n",
       "      <td>igt-2922</td>\n",
       "      <td>hin</td>\n",
       "      <td>laRkaa kal aay aa</td>\n",
       "      <td>laRkaa\\tkal\\taay\\taa</td>\n",
       "      <td>boy\\tyesterday\\tcome.aor\\tsg.m</td>\n",
       "      <td>the boy came yesterday</td>\n",
       "      <td>NaN</td>\n",
       "      <td>NaN</td>\n",
       "    </tr>\n",
       "    <tr>\n",
       "      <td>2907</td>\n",
       "      <td>igt-2923</td>\n",
       "      <td>hin</td>\n",
       "      <td>laRke ne laRkii ko dekh aa</td>\n",
       "      <td>laRke\\tne\\tlaRkii\\tko\\tdekh\\taa</td>\n",
       "      <td>boy.obl\\terg\\tgirl\\tacc\\tsee .aor\\tsg.m</td>\n",
       "      <td>the boy saw the girl</td>\n",
       "      <td>NaN</td>\n",
       "      <td>NaN</td>\n",
       "    </tr>\n",
       "    <tr>\n",
       "      <td>2908</td>\n",
       "      <td>igt-2924</td>\n",
       "      <td>hin</td>\n",
       "      <td>maiM kal aay aa</td>\n",
       "      <td>maiM\\tkal\\taay\\taa</td>\n",
       "      <td>I\\tyesterday\\tcome.aor\\tsg.m</td>\n",
       "      <td>I came yesterday</td>\n",
       "      <td>NaN</td>\n",
       "      <td>NaN</td>\n",
       "    </tr>\n",
       "    <tr>\n",
       "      <td>2909</td>\n",
       "      <td>igt-2925</td>\n",
       "      <td>hin</td>\n",
       "      <td>maiM ne tujh e dekh aa</td>\n",
       "      <td>maiM\\tne\\ttujh\\te\\tdekh\\taa</td>\n",
       "      <td>I\\terg\\tyou.obl\\tacc\\tsee .aor\\tsg.m</td>\n",
       "      <td>I saw you</td>\n",
       "      <td>NaN</td>\n",
       "      <td>NaN</td>\n",
       "    </tr>\n",
       "    <tr>\n",
       "      <td>3104</td>\n",
       "      <td>igt-3121</td>\n",
       "      <td>hin</td>\n",
       "      <td>[us ke kahaanii paRh ne se] sab khush hu e</td>\n",
       "      <td>[us\\tke\\tkahaanii\\tpaRh\\tne\\tse]\\tsab\\tkhush\\t...</td>\n",
       "      <td>he\\tgen.obl\\tstory\\tread\\tan\\tinstr\\tall\\thapp...</td>\n",
       "      <td>'Everyone was happy by his reading the story</td>\n",
       "      <td>NaN</td>\n",
       "      <td>NaN</td>\n",
       "    </tr>\n",
       "    <tr>\n",
       "      <td>3565</td>\n",
       "      <td>igt-3582</td>\n",
       "      <td>hin</td>\n",
       "      <td>Maim jis ādmī se bāt kar rahā thā vah kal bhār...</td>\n",
       "      <td>Maim\\tjis\\tādmī\\tse\\tbāt\\tkar\\trahā\\tthā\\tvah\\...</td>\n",
       "      <td>I.DIR\\twhich.SG.OBL\\tman\\tto\\ttalk\\tdo\\tPROG.S...</td>\n",
       "      <td>The man [to whom I was talking ] will go to In...</td>\n",
       "      <td>NaN</td>\n",
       "      <td>NaN</td>\n",
       "    </tr>\n",
       "    <tr>\n",
       "      <td>3630</td>\n",
       "      <td>igt-3649</td>\n",
       "      <td>hin</td>\n",
       "      <td>do sau ik taal iis</td>\n",
       "      <td>do\\tsau\\tik\\ttaal\\tiis</td>\n",
       "      <td>two\\thundred\\tone\\tfour\\tty</td>\n",
       "      <td>241 (i.e. 2 x 100 + 1 + 4 x 10)</td>\n",
       "      <td>NaN</td>\n",
       "      <td>NaN</td>\n",
       "    </tr>\n",
       "  </tbody>\n",
       "</table>\n",
       "</div>"
      ],
      "text/plain": [
       "            ID Language_ID                                       Primary_Text  \\\n",
       "167    igt-164         hin                                  laRkaa kal aay-aa   \n",
       "168    igt-165         hin                         laRke ne laRkii ko dekh-aa   \n",
       "611    igt-608         hin                                               maim   \n",
       "612    igt-609         hin                                                ham   \n",
       "744    igt-995         hin                               a. maim̊ calt-ā hūm̊   \n",
       "745    igt-996         hin                                b. ham calt-e haim̊   \n",
       "2388  igt-2405         hin                                          maim hūm   \n",
       "2389  igt-2406         hin                                          maim thā   \n",
       "2390  igt-2407         hin                                        maim hūmga   \n",
       "2391  igt-2408         hin                                             jānā   \n",
       "2392  igt-2409         hin                                              gayā   \n",
       "2906  igt-2922         hin                                  laRkaa kal aay aa   \n",
       "2907  igt-2923         hin                         laRke ne laRkii ko dekh aa   \n",
       "2908  igt-2924         hin                                    maiM kal aay aa   \n",
       "2909  igt-2925         hin                             maiM ne tujh e dekh aa   \n",
       "3104  igt-3121         hin         [us ke kahaanii paRh ne se] sab khush hu e   \n",
       "3565  igt-3582         hin  Maim jis ādmī se bāt kar rahā thā vah kal bhār...   \n",
       "3630  igt-3649         hin                                 do sau ik taal iis   \n",
       "\n",
       "                                          Analyzed_Word  \\\n",
       "167                                 laRkaa\\tkal\\taay-aa   \n",
       "168                      laRke\\tne\\tlaRkii\\tko\\tdekh-aa   \n",
       "611                                                maim   \n",
       "612                                                 ham   \n",
       "744                             a.\\tmaim̊\\tcalt-ā\\thūm̊   \n",
       "745                              b.\\tham\\tcalt-e\\thaim̊   \n",
       "2388                                         maim\\thūm   \n",
       "2389                                         maim\\tthā   \n",
       "2390                                       maim\\thūmga   \n",
       "2391                                             jānā   \n",
       "2392                                              gayā   \n",
       "2906                               laRkaa\\tkal\\taay\\taa   \n",
       "2907                    laRke\\tne\\tlaRkii\\tko\\tdekh\\taa   \n",
       "2908                                 maiM\\tkal\\taay\\taa   \n",
       "2909                        maiM\\tne\\ttujh\\te\\tdekh\\taa   \n",
       "3104  [us\\tke\\tkahaanii\\tpaRh\\tne\\tse]\\tsab\\tkhush\\t...   \n",
       "3565  Maim\\tjis\\tādmī\\tse\\tbāt\\tkar\\trahā\\tthā\\tvah\\...   \n",
       "3630                             do\\tsau\\tik\\ttaal\\tiis   \n",
       "\n",
       "                                                  Gloss  \\\n",
       "167                       boy\\tyesterday\\tcome.AOR-SG.M   \n",
       "168                  boy.OBL\\tERG\\tgirl\\tACC\\tsee- SG.M   \n",
       "611                                             1sg.nom   \n",
       "612                                             1pl.nom   \n",
       "744                          1SG.PRON\\tgo-\\tSG\\t1SG.AUX   \n",
       "745                          1PL.PRON\\tgo-\\tPL\\t1PL.AUX   \n",
       "2388                                    I\\tbe.1.SG.PRES   \n",
       "2389                                   I\\tbe.1.SG.M.PST   \n",
       "2390                                   I\\tbe.1.SG.M.FUT   \n",
       "2391                                       go.PRES/IMPF   \n",
       "2392                                        go.SG.M.PFV   \n",
       "2906                     boy\\tyesterday\\tcome.aor\\tsg.m   \n",
       "2907            boy.obl\\terg\\tgirl\\tacc\\tsee .aor\\tsg.m   \n",
       "2908                       I\\tyesterday\\tcome.aor\\tsg.m   \n",
       "2909               I\\terg\\tyou.obl\\tacc\\tsee .aor\\tsg.m   \n",
       "3104  he\\tgen.obl\\tstory\\tread\\tan\\tinstr\\tall\\thapp...   \n",
       "3565  I.DIR\\twhich.SG.OBL\\tman\\tto\\ttalk\\tdo\\tPROG.S...   \n",
       "3630                        two\\thundred\\tone\\tfour\\tty   \n",
       "\n",
       "                                        Translated_Text  Meta_Language_ID  \\\n",
       "167                             The boy came yesterday.               NaN   \n",
       "168                               The boy saw the girl.               NaN   \n",
       "611                                                   I               NaN   \n",
       "612                                                  we               NaN   \n",
       "744                                               I go.               NaN   \n",
       "745                                            ‘We go’.               NaN   \n",
       "2388                                               'be'               NaN   \n",
       "2389                                               'be'               NaN   \n",
       "2390                                               'be'               NaN   \n",
       "2391                                               'go'               NaN   \n",
       "2392                                               'go'               NaN   \n",
       "2906                             the boy came yesterday               NaN   \n",
       "2907                               the boy saw the girl               NaN   \n",
       "2908                                   I came yesterday               NaN   \n",
       "2909                                          I saw you               NaN   \n",
       "3104       'Everyone was happy by his reading the story               NaN   \n",
       "3565  The man [to whom I was talking ] will go to In...               NaN   \n",
       "3630                    241 (i.e. 2 x 100 + 1 + 4 x 10)               NaN   \n",
       "\n",
       "      Comment  \n",
       "167       NaN  \n",
       "168       NaN  \n",
       "611       NaN  \n",
       "612       NaN  \n",
       "744       NaN  \n",
       "745       NaN  \n",
       "2388      NaN  \n",
       "2389      NaN  \n",
       "2390      NaN  \n",
       "2391      NaN  \n",
       "2392      NaN  \n",
       "2906      NaN  \n",
       "2907      NaN  \n",
       "2908      NaN  \n",
       "2909      NaN  \n",
       "3104      NaN  \n",
       "3565      NaN  \n",
       "3630      NaN  "
      ]
     },
     "execution_count": 198,
     "metadata": {},
     "output_type": "execute_result"
    }
   ],
   "source": [
    "df1[df1['Language_ID']=='hin']"
   ]
  },
  {
   "cell_type": "code",
   "execution_count": 214,
   "metadata": {},
   "outputs": [
    {
     "name": "stdout",
     "output_type": "stream",
     "text": [
      "0\n",
      "1\n"
     ]
    }
   ],
   "source": [
    "for index,rows in df1[df1['Language_ID']=='hin'].reset_index(drop=True)[:2].iterrows():\n",
    "    print(index)"
   ]
  },
  {
   "cell_type": "code",
   "execution_count": 35,
   "metadata": {},
   "outputs": [
    {
     "data": {
      "text/plain": [
       "'five'"
      ]
     },
     "execution_count": 35,
     "metadata": {},
     "output_type": "execute_result"
    }
   ],
   "source": [
    "'five'"
   ]
  },
  {
   "cell_type": "code",
   "execution_count": 36,
   "metadata": {},
   "outputs": [
    {
     "data": {
      "text/plain": [
       "'5'"
      ]
     },
     "execution_count": 36,
     "metadata": {},
     "output_type": "execute_result"
    }
   ],
   "source": [
    "'5'"
   ]
  },
  {
   "cell_type": "code",
   "execution_count": 38,
   "metadata": {},
   "outputs": [
    {
     "data": {
      "text/plain": [
       "5"
      ]
     },
     "execution_count": 38,
     "metadata": {},
     "output_type": "execute_result"
    }
   ],
   "source": [
    "int('5')"
   ]
  },
  {
   "cell_type": "code",
   "execution_count": 208,
   "metadata": {},
   "outputs": [
    {
     "name": "stdout",
     "output_type": "stream",
     "text": [
      "hi\n"
     ]
    }
   ],
   "source": [
    "if 'a':\n",
    "    print('hi')"
   ]
  },
  {
   "cell_type": "code",
   "execution_count": null,
   "metadata": {},
   "outputs": [],
   "source": []
  }
 ],
 "metadata": {
  "kernelspec": {
   "display_name": "Python 3",
   "language": "python",
   "name": "python3"
  },
  "language_info": {
   "codemirror_mode": {
    "name": "ipython",
    "version": 3
   },
   "file_extension": ".py",
   "mimetype": "text/x-python",
   "name": "python",
   "nbconvert_exporter": "python",
   "pygments_lexer": "ipython3",
   "version": "3.7.4"
  }
 },
 "nbformat": 4,
 "nbformat_minor": 2
}
